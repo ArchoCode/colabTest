{
  "nbformat": 4,
  "nbformat_minor": 0,
  "metadata": {
    "colab": {
      "name": "newTest.ipynb",
      "provenance": [],
      "authorship_tag": "ABX9TyN0xBfILn2ObMzwRCFkPtfx",
      "include_colab_link": true
    },
    "kernelspec": {
      "name": "python3",
      "display_name": "Python 3"
    }
  },
  "cells": [
    {
      "cell_type": "markdown",
      "metadata": {
        "id": "view-in-github",
        "colab_type": "text"
      },
      "source": [
        "<a href=\"https://colab.research.google.com/github/ArchoCode/colabTest/blob/main/newTest.ipynb\" target=\"_parent\"><img src=\"https://colab.research.google.com/assets/colab-badge.svg\" alt=\"Open In Colab\"/></a>"
      ]
    },
    {
      "cell_type": "code",
      "metadata": {
        "colab": {
          "base_uri": "https://localhost:8080/"
        },
        "id": "RElJTbkdOJ7-",
        "outputId": "9d14e35f-6330-4418-c811-447fe33c17e9"
      },
      "source": [
        "print (\"test adding new files to github repo from colab\")"
      ],
      "execution_count": 1,
      "outputs": [
        {
          "output_type": "stream",
          "text": [
            "test adding new files to github repo from colab\n"
          ],
          "name": "stdout"
        }
      ]
    }
  ]
}