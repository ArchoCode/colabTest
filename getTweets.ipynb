{
  "nbformat": 4,
  "nbformat_minor": 0,
  "metadata": {
    "colab": {
      "name": "getTweets.ipynb",
      "provenance": [],
      "collapsed_sections": [],
      "mount_file_id": "1uXU_T3HyLzDtbGCEpHtDvJOVGEOMnwP4",
      "authorship_tag": "ABX9TyO1/xPWmiIkffvE3bmlFVSg",
      "include_colab_link": true
    },
    "kernelspec": {
      "name": "python3",
      "display_name": "Python 3"
    },
    "accelerator": "GPU"
  },
  "cells": [
    {
      "cell_type": "markdown",
      "metadata": {
        "id": "view-in-github",
        "colab_type": "text"
      },
      "source": [
        "<a href=\"https://colab.research.google.com/github/ArchoCode/colabTest/blob/main/getTweets.ipynb\" target=\"_parent\"><img src=\"https://colab.research.google.com/assets/colab-badge.svg\" alt=\"Open In Colab\"/></a>"
      ]
    },
    {
      "cell_type": "markdown",
      "metadata": {
        "id": "11RtNSZsfw4d"
      },
      "source": [
        "# **How to extract Sinhala Language Tweets using Tweepy**"
      ]
    },
    {
      "cell_type": "code",
      "metadata": {
        "id": "s5syGUr-PPZX"
      },
      "source": [
        "import tweepy\r\n",
        "import sys\r\n",
        "import os\r\n",
        "import csv\r\n",
        "import re\r\n",
        "\r\n",
        "\"\"\"https://stackoverflow.com/a/49986645/3711660\"\"\"\r\n",
        "def deEmojify(text):\r\n",
        "    regrex_pattern = re.compile(pattern=\"[\"\r\n",
        "                                u\"\\U0001F600-\\U0001F64F\"  # emoticons\r\n",
        "                                u\"\\U0001F300-\\U0001F5FF\"  # symbols & pictographs\r\n",
        "                                u\"\\U0001F680-\\U0001F6FF\"  # transport & map symbols\r\n",
        "                                u\"\\U0001F1E0-\\U0001F1FF\"  # flags (iOS)\r\n",
        "                                \"]+\", flags=re.UNICODE)\r\n",
        "    return regrex_pattern.sub(r'', text)\r\n",
        "\r\n",
        "# 1. Authenticate\r\n",
        "consumer_key=\"Your_CONSUMER_KEY\"\r\n",
        "consumer_secret=\"Your_consumer_secret\"\r\n",
        "access_token=\"Your_access_token\"\r\n",
        "access_token_secret=\"Your_access_token_secret\"\r\n",
        "\r\n",
        "auth = tweepy.OAuthHandler(consumer_key,consumer_secret)\r\n",
        "auth.set_access_token(access_token, access_token_secret)\r\n",
        "api = tweepy.API(auth)\r\n",
        "\r\n",
        "if (not api):\r\n",
        "    print(\"Authentication failed!\")\r\n",
        "    sys.exit(-1)\r\n",
        "\r\n",
        "# 2. Get data\r\n",
        "data = api.search(q=\"වේදනාව\",lang=\"si\", tweet_mode=\"extended\",\r\n",
        "                         count=100, exclude_replies=True)\r\n",
        "for tweet in data:\r\n",
        "   if ('RT @' not in tweet.full_text) and (not tweet.retweeted):\r\n",
        "        print(tweet.full_text)\r\n",
        "        \r\n",
        "# 3. Save data\r\n",
        "with open('tweets.csv', mode='w', encoding='utf-8', newline='') as csv_file:\r\n",
        "    fieldnames = ['created_at', 'text']\r\n",
        "    writer = csv.DictWriter(csv_file, fieldnames)\r\n",
        "    writer.writeheader()\r\n",
        "\r\n",
        "    for tweetObject in data:\r\n",
        "        writer.writerow({'text': deEmojify(tweetObject.full_text),\r\n",
        "                         'created_at': tweetObject.created_at})\r\n"
      ],
      "execution_count": null,
      "outputs": []
    }
  ]
}