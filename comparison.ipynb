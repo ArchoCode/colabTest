{
  "nbformat": 4,
  "nbformat_minor": 0,
  "metadata": {
    "colab": {
      "name": "comparison.ipynb",
      "provenance": [],
      "toc_visible": true,
      "authorship_tag": "ABX9TyPjIV4osJooxuo32PuIp6Ar",
      "include_colab_link": true
    },
    "kernelspec": {
      "name": "python3",
      "display_name": "Python 3"
    },
    "language_info": {
      "name": "python"
    }
  },
  "cells": [
    {
      "cell_type": "markdown",
      "metadata": {
        "id": "view-in-github",
        "colab_type": "text"
      },
      "source": [
        "<a href=\"https://colab.research.google.com/github/ArchoCode/colabTest/blob/main/comparison.ipynb\" target=\"_parent\"><img src=\"https://colab.research.google.com/assets/colab-badge.svg\" alt=\"Open In Colab\"/></a>"
      ]
    },
    {
      "cell_type": "markdown",
      "metadata": {
        "id": "cNY0rgmOjXbt"
      },
      "source": [
        "# Libraries"
      ]
    },
    {
      "cell_type": "markdown",
      "metadata": {
        "id": "YX7akzhXjdEa"
      },
      "source": [
        "Installing Emoji Package"
      ]
    },
    {
      "cell_type": "code",
      "metadata": {
        "id": "wNkrjoKajVn9"
      },
      "source": [
        "!pip install -U -q emoji"
      ],
      "execution_count": null,
      "outputs": []
    },
    {
      "cell_type": "code",
      "metadata": {
        "id": "vHhPwP9AjTuU"
      },
      "source": [
        "%matplotlib inline"
      ],
      "execution_count": 3,
      "outputs": []
    },
    {
      "cell_type": "code",
      "metadata": {
        "id": "KQ_WLDnLTfuV"
      },
      "source": [
        "import numpy as np\n",
        "import pandas as pd\n",
        "import matplotlib.pyplot as plt\n",
        "import sklearn.metrics as sm\n",
        "import re\n",
        "import emoji\n",
        "import nltk\n",
        "nltk.download('punkt')\n",
        "from textblob import TextBlob\n",
        "from nltk.tokenize import word_tokenize\n",
        "from sklearn.feature_extraction.text import TfidfVectorizer \n",
        "from sklearn.feature_extraction.text import CountVectorizer\n",
        "from sklearn.model_selection import train_test_split\n",
        "from sklearn import svm\n",
        "from sklearn.naive_bayes import MultinomialNB\n",
        "from sklearn.neighbors import KNeighborsClassifier\n",
        "from sklearn.tree import DecisionTreeClassifier\n",
        "from sklearn.ensemble import RandomForestClassifier\n",
        "from sklearn.metrics import accuracy_score, precision_score, recall_score, f1_score"
      ],
      "execution_count": null,
      "outputs": []
    },
    {
      "cell_type": "markdown",
      "metadata": {
        "id": "sBrAO8Yng-oM"
      },
      "source": [
        "Import Dataset"
      ]
    },
    {
      "cell_type": "code",
      "metadata": {
        "id": "hVNLkH06TlXc"
      },
      "source": [
        "data_set= pd.read_csv('/content/dataset.csv')"
      ],
      "execution_count": 46,
      "outputs": []
    },
    {
      "cell_type": "markdown",
      "metadata": {
        "id": "12ZWr2XckAHJ"
      },
      "source": [
        "# Pre-Processing"
      ]
    },
    {
      "cell_type": "code",
      "metadata": {
        "id": "l2ykSH4JToFN"
      },
      "source": [
        "def clean_text(df, text_field,new_text_field):\n",
        "    df[new_text_field]=df[text_field]\n",
        "    # remove numbers\n",
        "    df[new_text_field] = df[new_text_field].apply(lambda elem: re.sub(r\"\\d+\", \"\", elem))\n",
        "    #remove url\n",
        "    df[new_text_field] = df[new_text_field].apply(lambda elem: re.sub(r\"https?://\\S+|www\\.\\S+\", \"\", elem))\n",
        "    #remove HTML tags\n",
        "    df[new_text_field] = df[new_text_field].apply(lambda elem: re.sub(r\"<.*?>\", \"\", elem))\n",
        "    #remove emojis \n",
        "    df[new_text_field] = df[new_text_field].apply(lambda elem: emoji.get_emoji_regexp().sub(r\" \", elem))\n",
        "    #remove re-tweets status \n",
        "    df[new_text_field] = df[new_text_field].apply(lambda elem: re.sub(r'^RT @\\w*: ', ' ', elem))\n",
        "    #remove mentions \n",
        "    df[new_text_field] = df[new_text_field].apply(lambda elem: re.sub(r'@\\w*', ' ', elem))\n",
        "    #remove special characters \n",
        "    df[new_text_field] = df[new_text_field].apply(lambda elem: re.sub(r'[!@#&*$.?,]', ' ', elem))\n",
        "    #remove \\n\n",
        "    df[new_text_field] = df[new_text_field].apply(lambda elem: re.sub(r'\\n', ' ', elem))\n",
        "    #remove ''\n",
        "    df[new_text_field] = df[new_text_field].apply(lambda elem: re.sub(\"'\", '', elem))\n",
        "    \n",
        "    return df\n",
        "\n",
        "#tokenizing\n",
        "def tokenize(df,text_field,new_text_field):\n",
        "  df[new_text_field]=df[text_field]\n",
        "  df[new_text_field]=df[new_text_field].apply(word_tokenize)\n",
        "  return df\n",
        "    \n",
        "clean_data = clean_text(data_set,'Comment','text_clean')\n",
        "tokenize_data=tokenize(data_set,'text_clean','tokenized_text')\n",
        "clean_data.head()"
      ],
      "execution_count": null,
      "outputs": []
    },
    {
      "cell_type": "markdown",
      "metadata": {
        "id": "z5Su-myUkI71"
      },
      "source": [
        "# Train & Test Split"
      ]
    },
    {
      "cell_type": "code",
      "metadata": {
        "id": "Iwih-HTCT-k5"
      },
      "source": [
        "# extract the labels from the train data\n",
        "y = data_set.label.values\n",
        "\n",
        "# use 70% for the training and 30% for the test\n",
        "x_train, x_test, y_train, y_test = train_test_split(data_set.text_clean.values, y, \n",
        "                                                    stratify=y, \n",
        "                                                    random_state=1, \n",
        "                                                    test_size=0.3, shuffle=True)"
      ],
      "execution_count": 48,
      "outputs": []
    },
    {
      "cell_type": "markdown",
      "metadata": {
        "id": "IgfsvQhWkfi9"
      },
      "source": [
        "# Vectorization"
      ]
    },
    {
      "cell_type": "markdown",
      "metadata": {
        "id": "B12qnW8BkrZs"
      },
      "source": [
        "Tf-idf vectorizer"
      ]
    },
    {
      "cell_type": "code",
      "metadata": {
        "id": "IzVSFiNaUcO_"
      },
      "source": [
        "Tfidf_vectorizer = TfidfVectorizer(ngram_range=(1, 2),analyzer='word')\n",
        "Tfidf_vectorizer.fit(list(x_train) + list(x_test))"
      ],
      "execution_count": null,
      "outputs": []
    },
    {
      "cell_type": "code",
      "metadata": {
        "id": "tSXhNMHTk6lP"
      },
      "source": [
        "\n",
        "# transform documents to document-term matrix transform comments into a vector/numerical form\n",
        "x_train_vec = Tfidf_vectorizer.transform(x_train)\n",
        "x_test_vec = Tfidf_vectorizer.transform(x_test)"
      ],
      "execution_count": 37,
      "outputs": []
    },
    {
      "cell_type": "markdown",
      "metadata": {
        "id": "-qdjfYUsku33"
      },
      "source": [
        "Counter Vectorizer"
      ]
    },
    {
      "cell_type": "code",
      "metadata": {
        "id": "wz4WPykGjJJc"
      },
      "source": [
        "# vectorize tweets for model building\n",
        "counter_vectorizer = CountVectorizer(binary=True)\n",
        "\n",
        "# learn a vocabulary dictionary of all tokens in the raw documents\n",
        "counter_vectorizer.fit(list(x_train) + list(x_test))"
      ],
      "execution_count": null,
      "outputs": []
    },
    {
      "cell_type": "code",
      "metadata": {
        "id": "GEBBv85xlNVz"
      },
      "source": [
        "# transform documents to document-term matrix\n",
        "x_train_vec = counter_vectorizer.transform(x_train)\n",
        "x_test_vec = counter_vectorizer.transform(x_test)"
      ],
      "execution_count": 50,
      "outputs": []
    },
    {
      "cell_type": "markdown",
      "metadata": {
        "id": "UUGG35l2my_B"
      },
      "source": [
        "# Model Building"
      ]
    },
    {
      "cell_type": "markdown",
      "metadata": {
        "id": "vr2Z8XZVm4Ja"
      },
      "source": [
        "01) linear SVM Classifier\n",
        "\n",
        "---\n",
        "\n"
      ]
    },
    {
      "cell_type": "code",
      "metadata": {
        "id": "CKhQi7oGZRKq"
      },
      "source": [
        "# linear SVM Classifier\n",
        "from sklearn import svm\n",
        "# classify using support vector classifier\n",
        "model = svm.SVC(kernel = 'linear', probability=True)\n",
        "# fit the SVC model based on the given training data\n",
        "probability = model.fit(x_train_vec, y_train).predict_proba(x_test_vec)\n",
        "# perform classification and prediction on samples in x_test\n",
        "prediction = model.predict(x_test_vec)"
      ],
      "execution_count": 51,
      "outputs": []
    },
    {
      "cell_type": "markdown",
      "metadata": {
        "id": "geU7_ww_rho5"
      },
      "source": [
        "Performance Messure *SVM*"
      ]
    },
    {
      "cell_type": "code",
      "metadata": {
        "id": "6yPrHZ0Qrk2p"
      },
      "source": [
        "print(\"Accuracy score for SVM is: \", accuracy_score(y_test, prediction) * 100, '%')\n",
        "print(\"Precision score for SVM is: \", precision_score(y_test, prediction, pos_label=1) * 100, '%')\n",
        "print(\"Recall score for SVM is: \", recall_score(y_test, prediction, pos_label=1) * 100, '%')\n",
        "print(\"f1 score for SVM is: \", f1_score(y_test, prediction) * 100, '%')"
      ],
      "execution_count": null,
      "outputs": []
    },
    {
      "cell_type": "markdown",
      "metadata": {
        "id": "6SrS3p1SoYR5"
      },
      "source": [
        "02) Multinomial naive bayes classifier\n",
        "\n",
        "---\n",
        "\n"
      ]
    },
    {
      "cell_type": "code",
      "metadata": {
        "id": "AUdz9Qj1bQxB"
      },
      "source": [
        "#multinominal naive bayes classifier\n",
        "model = MultinomialNB()\n",
        "probability = model.fit(x_train_vec,y_train).predict_proba(x_test_vec)\n",
        "prediction = model.predict(x_test_vec)"
      ],
      "execution_count": 53,
      "outputs": []
    },
    {
      "cell_type": "code",
      "metadata": {
        "id": "IT5CN_Dr4C3M"
      },
      "source": [
        "print(\"Accuracy score for MNB is: \", accuracy_score(y_test, prediction) * 100, '%')\n",
        "print(\"Precision score for MNB is: \", precision_score(y_test, prediction, pos_label=1) * 100, '%')\n",
        "print(\"Recall score for MNB is: \", recall_score(y_test, prediction, pos_label=1) * 100, '%')\n",
        "print(\"f1 score for MNB is: \", f1_score(y_test, prediction) * 100, '%')"
      ],
      "execution_count": null,
      "outputs": []
    },
    {
      "cell_type": "code",
      "metadata": {
        "id": "IgoqpFITf7pd"
      },
      "source": [
        "#model.score(x_test_vec,y_test)\n",
        "#model.predict_proba(x_test_vec[0:1])"
      ],
      "execution_count": null,
      "outputs": []
    },
    {
      "cell_type": "markdown",
      "metadata": {
        "id": "TZ8lEJGlHoJN"
      },
      "source": [
        "03) KNN\n",
        "\n",
        "---\n",
        "\n"
      ]
    },
    {
      "cell_type": "code",
      "metadata": {
        "colab": {
          "base_uri": "https://localhost:8080/",
          "height": 422
        },
        "id": "P18W3x-iMZrh",
        "outputId": "2037902c-faa4-479d-86bd-5cad3bbd50d7"
      },
      "source": [
        "accuracy = []\n",
        "# Will take some time\n",
        "#from sklearn import metrics\n",
        "for k in range(1,50):\n",
        "    model = KNeighborsClassifier(n_neighbors = k).fit(x_train_vec,y_train)\n",
        "    prediction = model.predict(x_test_vec)\n",
        "    accuracy.append(sm.accuracy_score(y_test, prediction))\n",
        "\n",
        "plt.figure(figsize=(10,6))\n",
        "plt.plot(range(1,50),accuracy,color = 'blue',linestyle='dashed', marker='o',markerfacecolor='red', markersize=10)\n",
        "plt.title('accuracy vs. K Value')\n",
        "plt.xlabel('K')\n",
        "plt.ylabel('Accuracy')\n",
        "\n",
        "print(\"Maximum accuracy:-\",max(accuracy),\"at K =\",accuracy.index(max(accuracy))+1)"
      ],
      "execution_count": 55,
      "outputs": [
        {
          "output_type": "stream",
          "text": [
            "Maximum accuracy:- 0.6521739130434783 at K = 20\n"
          ],
          "name": "stdout"
        },
        {
          "output_type": "display_data",
          "data": {
            "image/png": "[encoded data removed]",
            "text/plain": [
              "<Figure size 720x432 with 1 Axes>"
            ]
          },
          "metadata": {
            "tags": [],
            "needs_background": "light"
          }
        }
      ]
    },
    {
      "cell_type": "markdown",
      "metadata": {
        "id": "PWrd2UTNmi4B"
      },
      "source": [
        "Performance messure at *k* value which gives the max accuracy \n",
        "\n"
      ]
    },
    {
      "cell_type": "code",
      "metadata": {
        "id": "OWuUk4xBHrXF"
      },
      "source": [
        "k = 20\n",
        "model = KNeighborsClassifier(n_neighbors = k).fit(x_train_vec,y_train)\n",
        "#probability = model.fit(x_train_vec,y_train).predict_proba(x_test_vec)\n",
        "prediction = model.predict(x_test_vec)\n",
        "print(\"Accuracy score for KNN is: \", sm.accuracy_score(y_test, prediction) * 100, '%')\n",
        "print(\"Precision score for KNN is: \", precision_score(y_test, prediction, pos_label=1) * 100, '%')\n",
        "print(\"Recall score for KNN is: \", recall_score(y_test, prediction, pos_label=1) * 100, '%')\n",
        "print(\"f1 score for KNN is: \", f1_score(y_test, prediction) * 100, '%')"
      ],
      "execution_count": null,
      "outputs": []
    },
    {
      "cell_type": "markdown",
      "metadata": {
        "id": "DnpsJ0d3nH6L"
      },
      "source": [
        "04) Decision trees\n",
        "\n",
        "---\n",
        "\n"
      ]
    },
    {
      "cell_type": "code",
      "metadata": {
        "id": "ZI90c12-nLg8"
      },
      "source": [
        "model =DecisionTreeClassifier()\n",
        "probability = model.fit(x_train_vec,y_train).predict_proba(x_test_vec)\n",
        "prediction = model.predict(x_test_vec)\n",
        "print(\"Accuracy score for DT is: \", sm.accuracy_score(y_test, prediction) * 100, '%')\n",
        "print(\"Precision score for DT is: \", precision_score(y_test, prediction, pos_label=1) * 100, '%')\n",
        "print(\"Recall score for DT is: \", recall_score(y_test, prediction, pos_label=1) * 100, '%')\n",
        "print(\"f1 score for DT is: \", f1_score(y_test, prediction) * 100, '%')"
      ],
      "execution_count": null,
      "outputs": []
    },
    {
      "cell_type": "markdown",
      "metadata": {
        "id": "QEdaf6I7CNQS"
      },
      "source": [
        "05)RandomForest Classifier\n",
        "\n",
        "---\n",
        "\n"
      ]
    },
    {
      "cell_type": "code",
      "metadata": {
        "id": "Lr5NK_QKBwPE"
      },
      "source": [
        "model = RandomForestClassifier()\n",
        "probability = model.fit(x_train_vec,y_train).predict_proba(x_test_vec)\n",
        "prediction = model.predict(x_test_vec)\n",
        "print(\"Accuracy score for RF is: \", sm.accuracy_score(y_test, prediction) * 100, '%')\n",
        "print(\"Precision score for RF is: \", precision_score(y_test, prediction, pos_label=1) * 100, '%')\n",
        "print(\"Recall score for RF is: \", recall_score(y_test, prediction, pos_label=1) * 100, '%')\n",
        "print(\"f1 score for RF is: \", f1_score(y_test, prediction) * 100, '%')"
      ],
      "execution_count": null,
      "outputs": []
    }
  ]
}