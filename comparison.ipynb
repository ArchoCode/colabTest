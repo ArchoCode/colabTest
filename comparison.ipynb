{
  "nbformat": 4,
  "nbformat_minor": 0,
  "metadata": {
    "colab": {
      "name": "comparison.ipynb",
      "provenance": [],
      "authorship_tag": "ABX9TyPVvYq7gNKhrMnSKxRHoBrP",
      "include_colab_link": true
    },
    "kernelspec": {
      "name": "python3",
      "display_name": "Python 3"
    },
    "language_info": {
      "name": "python"
    }
  },
  "cells": [
    {
      "cell_type": "markdown",
      "metadata": {
        "id": "view-in-github",
        "colab_type": "text"
      },
      "source": [
        "<a href=\"https://colab.research.google.com/github/ArchoCode/colabTest/blob/main/comparison.ipynb\" target=\"_parent\"><img src=\"https://colab.research.google.com/assets/colab-badge.svg\" alt=\"Open In Colab\"/></a>"
      ]
    },
    {
      "cell_type": "markdown",
      "metadata": {
        "id": "cNY0rgmOjXbt"
      },
      "source": [
        "# Libraries"
      ]
    },
    {
      "cell_type": "code",
      "metadata": {
        "id": "KQ_WLDnLTfuV"
      },
      "source": [
        "import numpy as np\n",
        "import pandas as pd\n",
        "import matplotlib.pyplot as plt\n",
        "import sklearn.metrics as sm\n",
        "import re\n",
        "import emoji\n",
        "#import nltk\n",
        "#nltk.download('punkt')\n",
        "from textblob import TextBlob\n",
        "from nltk.tokenize import word_tokenize\n",
        "from sklearn.feature_extraction.text import TfidfVectorizer \n",
        "from sklearn.feature_extraction.text import CountVectorizer\n",
        "from sklearn.model_selection import train_test_split\n",
        "from sklearn import svm\n",
        "from sklearn.naive_bayes import MultinomialNB\n",
        "from sklearn.neighbors import KNeighborsClassifier\n",
        "from sklearn.metrics import accuracy_score, precision_score, recall_score"
      ],
      "execution_count": null,
      "outputs": []
    },
    {
      "cell_type": "markdown",
      "metadata": {
        "id": "YX7akzhXjdEa"
      },
      "source": [
        "Installing Emoji Package"
      ]
    },
    {
      "cell_type": "code",
      "metadata": {
        "id": "wNkrjoKajVn9"
      },
      "source": [
        "!pip install -U -q emoji"
      ],
      "execution_count": null,
      "outputs": []
    },
    {
      "cell_type": "code",
      "metadata": {
        "id": "vHhPwP9AjTuU"
      },
      "source": [
        "%matplotlib inline"
      ],
      "execution_count": null,
      "outputs": []
    },
    {
      "cell_type": "code",
      "metadata": {
        "id": "hVNLkH06TlXc"
      },
      "source": [
        "data_set= pd.read_csv('/content/tweets.csv')"
      ],
      "execution_count": null,
      "outputs": []
    },
    {
      "cell_type": "markdown",
      "metadata": {
        "id": "12ZWr2XckAHJ"
      },
      "source": [
        "# Pre-Processing"
      ]
    },
    {
      "cell_type": "code",
      "metadata": {
        "colab": {
          "base_uri": "https://localhost:8080/",
          "height": 258
        },
        "id": "l2ykSH4JToFN",
        "outputId": "ac2ef2d9-c75e-478b-ee8c-847ac34497a4"
      },
      "source": [
        "def clean_text(df, text_field,new_text_field):\n",
        "    df[new_text_field]=df[text_field]\n",
        "    # remove numbers\n",
        "    df[new_text_field] = df[new_text_field].apply(lambda elem: re.sub(r\"\\d+\", \"\", elem))\n",
        "    #remove url\n",
        "    df[new_text_field] = df[new_text_field].apply(lambda elem: re.sub(r\"https?://\\S+|www\\.\\S+\", \"\", elem))\n",
        "    #remove HTML tags\n",
        "    df[new_text_field] = df[new_text_field].apply(lambda elem: re.sub(r\"<.*?>\", \"\", elem))\n",
        "    #remove emojis \n",
        "    df[new_text_field] = df[new_text_field].apply(lambda elem: emoji.get_emoji_regexp().sub(r\" \", elem))\n",
        "    #remove re-tweets status \n",
        "    df[new_text_field] = df[new_text_field].apply(lambda elem: re.sub(r'^RT @\\w*: ', ' ', elem))\n",
        "    #remove mentions \n",
        "    df[new_text_field] = df[new_text_field].apply(lambda elem: re.sub(r'@\\w*', ' ', elem))\n",
        "    #remove special characters \n",
        "    df[new_text_field] = df[new_text_field].apply(lambda elem: re.sub(r'[!@#&*$.?,]', ' ', elem))\n",
        "    #remove \\n\n",
        "    df[new_text_field] = df[new_text_field].apply(lambda elem: re.sub(r'\\n', ' ', elem))\n",
        "    #remove ''\n",
        "    df[new_text_field] = df[new_text_field].apply(lambda elem: re.sub(\"'\", '', elem))\n",
        "    \n",
        "    return df\n",
        "\n",
        "#tokenizing\n",
        "def tokenize(df,text_field,new_text_field):\n",
        "  df[new_text_field]=df[text_field]\n",
        "  df[new_text_field]=df[new_text_field].apply(word_tokenize)\n",
        "  return df\n",
        "    \n",
        "clean_data = clean_text(data_set,'Comment','text_clean')\n",
        "tokenize_data=tokenize(data_set,'text_clean','tokenized_text')\n",
        "clean_data.head()"
      ],
      "execution_count": null,
      "outputs": [
        {
          "output_type": "execute_result",
          "data": {
            "text/html": [
              "<div>\n",
              "<style scoped>\n",
              "    .dataframe tbody tr th:only-of-type {\n",
              "        vertical-align: middle;\n",
              "    }\n",
              "\n",
              "    .dataframe tbody tr th {\n",
              "        vertical-align: top;\n",
              "    }\n",
              "\n",
              "    .dataframe thead th {\n",
              "        text-align: right;\n",
              "    }\n",
              "</style>\n",
              "<table border=\"1\" class=\"dataframe\">\n",
              "  <thead>\n",
              "    <tr style=\"text-align: right;\">\n",
              "      <th></th>\n",
              "      <th>0</th>\n",
              "      <th>Comment</th>\n",
              "      <th>label</th>\n",
              "      <th>text_clean</th>\n",
              "      <th>tokenized_text</th>\n",
              "    </tr>\n",
              "  </thead>\n",
              "  <tbody>\n",
              "    <tr>\n",
              "      <th>0</th>\n",
              "      <td>1</td>\n",
              "      <td>නැති බැරි කම් අග හිග කම් මැද ජීවත් වෙනවට වඩා හ...</td>\n",
              "      <td>1</td>\n",
              "      <td>නැති බැරි කම් අග හිග කම් මැද ජීවත් වෙනවට වඩා හ...</td>\n",
              "      <td>[නැති, බැරි, කම්, අග, හිග, කම්, මැද, ජීවත්, වෙ...</td>\n",
              "    </tr>\n",
              "    <tr>\n",
              "      <th>1</th>\n",
              "      <td>2</td>\n",
              "      <td>ඔබ සැමට සුභ දවසක් වේවා!</td>\n",
              "      <td>0</td>\n",
              "      <td>ඔබ සැමට සුභ දවසක් වේවා</td>\n",
              "      <td>[ඔබ, සැමට, සුභ, දවසක්, වේවා]</td>\n",
              "    </tr>\n",
              "    <tr>\n",
              "      <th>2</th>\n",
              "      <td>3</td>\n",
              "      <td>හැමදේම අත හැර ගියා නම් හරි වගේ</td>\n",
              "      <td>1</td>\n",
              "      <td>හැමදේම අත හැර ගියා නම් හරි වගේ</td>\n",
              "      <td>[හැමදේම, අත, හැර, ගියා, නම්, හරි, වගේ]</td>\n",
              "    </tr>\n",
              "    <tr>\n",
              "      <th>3</th>\n",
              "      <td>4</td>\n",
              "      <td>රෑට දිලිසෙන ලුමිනස් පාට තරු ටිකක් කාමරේ ඇලෙව්ව...</td>\n",
              "      <td>0</td>\n",
              "      <td>රෑට දිලිසෙන ලුමිනස් පාට තරු ටිකක් කාමරේ ඇලෙව්ව...</td>\n",
              "      <td>[රෑට, දිලිසෙන, ලුමිනස්, පාට, තරු, ටිකක්, කාමරේ...</td>\n",
              "    </tr>\n",
              "    <tr>\n",
              "      <th>4</th>\n",
              "      <td>5</td>\n",
              "      <td>මට මානසික ගැටලුවක් තියෙනවා. කතාකරන්න පුලුවන් ක...</td>\n",
              "      <td>1</td>\n",
              "      <td>මට මානසික ගැටලුවක් තියෙනවා  කතාකරන්න පුලුවන් ක...</td>\n",
              "      <td>[මට, මානසික, ගැටලුවක්, තියෙනවා, කතාකරන්න, පුලු...</td>\n",
              "    </tr>\n",
              "  </tbody>\n",
              "</table>\n",
              "</div>"
            ],
            "text/plain": [
              "   0  ...                                     tokenized_text\n",
              "0  1  ...  [නැති, බැරි, කම්, අග, හිග, කම්, මැද, ජීවත්, වෙ...\n",
              "1  2  ...                       [ඔබ, සැමට, සුභ, දවසක්, වේවා]\n",
              "2  3  ...             [හැමදේම, අත, හැර, ගියා, නම්, හරි, වගේ]\n",
              "3  4  ...  [රෑට, දිලිසෙන, ලුමිනස්, පාට, තරු, ටිකක්, කාමරේ...\n",
              "4  5  ...  [මට, මානසික, ගැටලුවක්, තියෙනවා, කතාකරන්න, පුලු...\n",
              "\n",
              "[5 rows x 5 columns]"
            ]
          },
          "metadata": {
            "tags": []
          },
          "execution_count": 65
        }
      ]
    },
    {
      "cell_type": "markdown",
      "metadata": {
        "id": "z5Su-myUkI71"
      },
      "source": [
        "# Train & Test Split"
      ]
    },
    {
      "cell_type": "code",
      "metadata": {
        "id": "Iwih-HTCT-k5"
      },
      "source": [
        "# extract the labels from the train data\n",
        "y = data_set.label.values\n",
        "\n",
        "# use 70% for the training and 30% for the test\n",
        "x_train, x_test, y_train, y_test = train_test_split(data_set.text_clean.values, y, \n",
        "                                                    stratify=y, \n",
        "                                                    random_state=1, \n",
        "                                                    test_size=0.3, shuffle=True)"
      ],
      "execution_count": null,
      "outputs": []
    },
    {
      "cell_type": "markdown",
      "metadata": {
        "id": "IgfsvQhWkfi9"
      },
      "source": [
        "# Vectorization"
      ]
    },
    {
      "cell_type": "markdown",
      "metadata": {
        "id": "B12qnW8BkrZs"
      },
      "source": [
        "Tf-idf vectorizer"
      ]
    },
    {
      "cell_type": "code",
      "metadata": {
        "colab": {
          "base_uri": "https://localhost:8080/"
        },
        "id": "IzVSFiNaUcO_",
        "outputId": "050d2175-d7c3-477f-8c28-59925d02d78c"
      },
      "source": [
        "Tfidf_vectorizer = TfidfVectorizer(ngram_range=(1, 2),analyzer='word')\n",
        "Tfidf_vectorizer.fit(list(x_train) + list(x_test))"
      ],
      "execution_count": null,
      "outputs": [
        {
          "output_type": "execute_result",
          "data": {
            "text/plain": [
              "TfidfVectorizer(analyzer='word', binary=False, decode_error='strict',\n",
              "                dtype=<class 'numpy.float64'>, encoding='utf-8',\n",
              "                input='content', lowercase=True, max_df=1.0, max_features=None,\n",
              "                min_df=1, ngram_range=(1, 2), norm='l2', preprocessor=None,\n",
              "                smooth_idf=True, stop_words=None, strip_accents=None,\n",
              "                sublinear_tf=False, token_pattern='(?u)\\\\b\\\\w\\\\w+\\\\b',\n",
              "                tokenizer=None, use_idf=True, vocabulary=None)"
            ]
          },
          "metadata": {
            "tags": []
          },
          "execution_count": 67
        }
      ]
    },
    {
      "cell_type": "code",
      "metadata": {
        "id": "tSXhNMHTk6lP"
      },
      "source": [
        "\n",
        "# transform documents to document-term matrix transform comments into a vector/numerical form\n",
        "x_train_vec = Tfidf_vectorizer.transform(x_train)\n",
        "x_test_vec = Tfidf_vectorizer.transform(x_test)"
      ],
      "execution_count": null,
      "outputs": []
    },
    {
      "cell_type": "markdown",
      "metadata": {
        "id": "-qdjfYUsku33"
      },
      "source": [
        "Counter Vectorizer"
      ]
    },
    {
      "cell_type": "code",
      "metadata": {
        "colab": {
          "base_uri": "https://localhost:8080/"
        },
        "id": "wz4WPykGjJJc",
        "outputId": "4c508746-43e2-45c2-8f94-83646abd0822"
      },
      "source": [
        "# vectorize tweets for model building\n",
        "counter_vectorizer = CountVectorizer(binary=True)\n",
        "\n",
        "# learn a vocabulary dictionary of all tokens in the raw documents\n",
        "counter_vectorizer.fit(list(x_train) + list(x_test))"
      ],
      "execution_count": null,
      "outputs": [
        {
          "output_type": "execute_result",
          "data": {
            "text/plain": [
              "CountVectorizer(analyzer='word', binary=True, decode_error='strict',\n",
              "                dtype=<class 'numpy.int64'>, encoding='utf-8', input='content',\n",
              "                lowercase=True, max_df=1.0, max_features=None, min_df=1,\n",
              "                ngram_range=(1, 1), preprocessor=None, stop_words=None,\n",
              "                strip_accents=None, token_pattern='(?u)\\\\b\\\\w\\\\w+\\\\b',\n",
              "                tokenizer=None, vocabulary=None)"
            ]
          },
          "metadata": {
            "tags": []
          },
          "execution_count": 36
        }
      ]
    },
    {
      "cell_type": "code",
      "metadata": {
        "id": "GEBBv85xlNVz"
      },
      "source": [
        "# transform documents to document-term matrix\n",
        "x_train_vec = counter_vectorizer.transform(x_train)\n",
        "x_test_vec = counter_vectorizer.transform(x_test)"
      ],
      "execution_count": null,
      "outputs": []
    },
    {
      "cell_type": "markdown",
      "metadata": {
        "id": "UUGG35l2my_B"
      },
      "source": [
        "# Model Building"
      ]
    },
    {
      "cell_type": "markdown",
      "metadata": {
        "id": "vr2Z8XZVm4Ja"
      },
      "source": [
        "linear SVM Classifier"
      ]
    },
    {
      "cell_type": "code",
      "metadata": {
        "id": "CKhQi7oGZRKq"
      },
      "source": [
        "# linear SVM Classifier\n",
        "from sklearn import svm\n",
        "# classify using support vector classifier\n",
        "model = svm.SVC(kernel = 'linear', probability=True)\n",
        "# fit the SVC model based on the given training data\n",
        "probability = model.fit(x_train_vec, y_train).predict_proba(x_test_vec)\n",
        "# perform classification and prediction on samples in x_test\n",
        "prediction = model.predict(x_test_vec)"
      ],
      "execution_count": null,
      "outputs": []
    },
    {
      "cell_type": "markdown",
      "metadata": {
        "id": "geU7_ww_rho5"
      },
      "source": [
        "Performance Messure *SVM*"
      ]
    },
    {
      "cell_type": "code",
      "metadata": {
        "colab": {
          "base_uri": "https://localhost:8080/"
        },
        "id": "6yPrHZ0Qrk2p",
        "outputId": "8d7ac36f-ef07-4c47-ea92-3b8a6ca9d407"
      },
      "source": [
        "print(\"Accuracy score for SVM is: \", accuracy_score(y_test, prediction) * 100, '%')\n",
        "print(\"Precision score for SVM is: \", precision_score(y_test, prediction, pos_label=1) * 100, '%')\n",
        "print(\"Recall score for SVM is: \", recall_score(y_test, prediction, pos_label=1) * 100, '%')"
      ],
      "execution_count": null,
      "outputs": [
        {
          "output_type": "stream",
          "text": [
            "Accuracy score for SVM is:  71.23287671232876 %\n",
            "Precision score for SVM is:  68.88888888888889 %\n",
            "Recall score for SVM is:  81.57894736842105 %\n"
          ],
          "name": "stdout"
        }
      ]
    },
    {
      "cell_type": "markdown",
      "metadata": {
        "id": "6SrS3p1SoYR5"
      },
      "source": [
        "multinomial naive bayes classifier"
      ]
    },
    {
      "cell_type": "code",
      "metadata": {
        "id": "AUdz9Qj1bQxB"
      },
      "source": [
        "#multinominal naive bayes classifier\n",
        "model = MultinomialNB()\n",
        "probability = model.fit(x_train_vec,y_train).predict_proba(x_test_vec)\n",
        "prediction = model.predict(x_test_vec)"
      ],
      "execution_count": null,
      "outputs": []
    },
    {
      "cell_type": "code",
      "metadata": {
        "colab": {
          "base_uri": "https://localhost:8080/"
        },
        "id": "IgoqpFITf7pd",
        "outputId": "1ae9b330-5b52-4b7f-8d1a-fbc6f22bdb9e"
      },
      "source": [
        "#model.score(x_test_vec,y_test)\n",
        "#model.predict_proba(x_test_vec[0:1])"
      ],
      "execution_count": null,
      "outputs": [
        {
          "output_type": "execute_result",
          "data": {
            "text/plain": [
              "array([[0.43736894, 0.56263106]])"
            ]
          },
          "metadata": {
            "tags": []
          },
          "execution_count": 70
        }
      ]
    },
    {
      "cell_type": "code",
      "metadata": {
        "colab": {
          "base_uri": "https://localhost:8080/"
        },
        "id": "IT5CN_Dr4C3M",
        "outputId": "400281f3-5fb0-49c9-b067-bd2ec8186451"
      },
      "source": [
        "print(\"Accuracy score for MNB is: \", accuracy_score(y_test, prediction) * 100, '%')\n",
        "print(\"Precision score for MNB is: \", precision_score(y_test, prediction, pos_label=1) * 100, '%')\n",
        "print(\"Recall score for MNB is: \", recall_score(y_test, prediction, pos_label=1) * 100, '%')"
      ],
      "execution_count": null,
      "outputs": [
        {
          "output_type": "stream",
          "text": [
            "Accuracy score for MNB is:  65.75342465753424 %\n",
            "Precision score for MNB is:  61.81818181818181 %\n",
            "Recall score for MNB is:  89.47368421052632 %\n"
          ],
          "name": "stdout"
        }
      ]
    },
    {
      "cell_type": "markdown",
      "metadata": {
        "id": "TZ8lEJGlHoJN"
      },
      "source": [
        "KNN"
      ]
    },
    {
      "cell_type": "code",
      "metadata": {
        "id": "OWuUk4xBHrXF"
      },
      "source": [
        "k=15\n",
        "model = KNeighborsClassifier(n_neighbors=k).fit(x_train_vec,y_train)\n",
        "#probability = model.fit(x_train_vec,y_train).predict_proba(x_test_vec)\n",
        "prediction = model.predict(x_test_vec)"
      ],
      "execution_count": null,
      "outputs": []
    },
    {
      "cell_type": "code",
      "metadata": {
        "colab": {
          "base_uri": "https://localhost:8080/"
        },
        "id": "kAJXR1PBKmev",
        "outputId": "53186940-b8d7-4ddb-f5ee-21693fde9c41"
      },
      "source": [
        "print(\"Accuracy score for KNN is: \", accuracy_score(y_test, prediction) * 100, '%')\n",
        "print(\"Precision score for KNN is: \", precision_score(y_test, prediction, pos_label=1) * 100, '%')\n",
        "print(\"Recall score for KNN is: \", recall_score(y_test, prediction, pos_label=1) * 100, '%')"
      ],
      "execution_count": null,
      "outputs": [
        {
          "output_type": "stream",
          "text": [
            "Accuracy score for KNN is:  69.86301369863014 %\n",
            "Precision score for KNN is:  63.793103448275865 %\n",
            "Recall score for KNN is:  97.36842105263158 %\n"
          ],
          "name": "stdout"
        }
      ]
    },
    {
      "cell_type": "code",
      "metadata": {
        "colab": {
          "base_uri": "https://localhost:8080/",
          "height": 422
        },
        "id": "P18W3x-iMZrh",
        "outputId": "342213dc-d6e4-46d3-ef34-4d91c34a64e8"
      },
      "source": [
        "accuracy = []\n",
        "# Will take some time\n",
        "#from sklearn import metrics\n",
        "for k in range(1,50):\n",
        "    model = KNeighborsClassifier(n_neighbors = k).fit(x_train_vec,y_train)\n",
        "    prediction = model.predict(x_test_vec)\n",
        "    accuracy.append(sm.accuracy_score(y_test, prediction))\n",
        "\n",
        "plt.figure(figsize=(10,6))\n",
        "plt.plot(range(1,50),accuracy,color = 'blue',linestyle='dashed', marker='o',markerfacecolor='red', markersize=10)\n",
        "plt.title('accuracy vs. K Value')\n",
        "plt.xlabel('K')\n",
        "plt.ylabel('Accuracy')\n",
        "\n",
        "print(\"Maximum accuracy:-\",max(accuracy),\"at K =\",acc.index(max(accuracy)))"
      ],
      "execution_count": null,
      "outputs": [
        {
          "output_type": "stream",
          "text": [
            "Maximum accuracy:- 0.7534246575342466 at K = 15\n"
          ],
          "name": "stdout"
        },
        {
          "output_type": "display_data",
          "data": {
            "image/png": "[encoded data removed]",
            "text/plain": [
              "<Figure size 720x432 with 1 Axes>"
            ]
          },
          "metadata": {
            "tags": [],
            "needs_background": "light"
          }
        }
      ]
    }
  ]
}